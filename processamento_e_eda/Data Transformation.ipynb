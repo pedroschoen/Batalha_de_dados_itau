{
 "cells": [
  {
   "cell_type": "code",
   "execution_count": 90,
   "metadata": {},
   "outputs": [],
   "source": [
    "import os\n",
    "import pandas as pd\n",
    "import fileinput\n"
   ]
  },
  {
   "cell_type": "code",
   "execution_count": 91,
   "metadata": {},
   "outputs": [],
   "source": [
    "lista_dir = os.listdir('data')"
   ]
  },
  {
   "cell_type": "code",
   "execution_count": 92,
   "metadata": {},
   "outputs": [],
   "source": [
    "tipos = ['IML','ROUBO DE VEÍCULOS','ROUBO DE CELULAR','MORTE DECORRENTE DE INTERVENÇÃO POLICIAL',\n",
    "        'LESÃO CORPORAL DOLOSA SEGUIDA DE MORTE','LATROCÍNIO','HOMICÍDIO DOLOSO','FURTO DE VEÍCULOS','FURTO DE CELULAR']"
   ]
  },
  {
   "cell_type": "code",
   "execution_count": 100,
   "metadata": {},
   "outputs": [
    {
     "name": "stdout",
     "output_type": "stream",
     "text": [
      "DadosIML_20181.xls\n",
      "DadosIML_201810.xls\n",
      "DadosIML_20182.xls\n",
      "DadosIML_20183.xls\n",
      "DadosIML_20184.xls\n",
      "DadosIML_20185.xls\n",
      "DadosIML_20186.xls\n",
      "DadosIML_20187.xls\n",
      "DadosIML_20188.xls\n",
      "DadosIML_20189.xls\n",
      "DadosBO_2018_1(ROUBO DE VEÍCULOS).xls\n",
      "DadosBO_2018_10(ROUBO DE VEÍCULOS).xls\n",
      "DadosBO_2018_2(ROUBO DE VEÍCULOS).xls\n",
      "DadosBO_2018_3(ROUBO DE VEÍCULOS).xls\n",
      "DadosBO_2018_4(ROUBO DE VEÍCULOS).xls\n",
      "DadosBO_2018_5(ROUBO DE VEÍCULOS).xls\n",
      "DadosBO_2018_6(ROUBO DE VEÍCULOS).xls\n",
      "DadosBO_2018_7(ROUBO DE VEÍCULOS).xls\n",
      "DadosBO_2018_8(ROUBO DE VEÍCULOS).xls\n",
      "DadosBO_2018_9(ROUBO DE VEÍCULOS).xls\n",
      "DadosBO_2018_1(ROUBO DE CELULAR).xls\n",
      "DadosBO_2018_10(ROUBO DE CELULAR).xls\n",
      "DadosBO_2018_2(ROUBO DE CELULAR).xls\n",
      "DadosBO_2018_3(ROUBO DE CELULAR).xls\n",
      "DadosBO_2018_4(ROUBO DE CELULAR).xls\n",
      "DadosBO_2018_5(ROUBO DE CELULAR).xls\n",
      "DadosBO_2018_6(ROUBO DE CELULAR).xls\n",
      "DadosBO_2018_7(ROUBO DE CELULAR).xls\n",
      "DadosBO_2018_8(ROUBO DE CELULAR).xls\n",
      "DadosBO_2018_9(ROUBO DE CELULAR).xls\n",
      "DadosBO_2018_1(MORTE DECORRENTE DE INTERVENÇÃO POLICIAL).xls\n",
      "DadosBO_2018_10(MORTE DECORRENTE DE INTERVENÇÃO POLICIAL).xls\n",
      "DadosBO_2018_2(MORTE DECORRENTE DE INTERVENÇÃO POLICIAL).xls\n",
      "DadosBO_2018_3(MORTE DECORRENTE DE INTERVENÇÃO POLICIAL).xls\n",
      "DadosBO_2018_4(MORTE DECORRENTE DE INTERVENÇÃO POLICIAL).xls\n",
      "DadosBO_2018_5(MORTE DECORRENTE DE INTERVENÇÃO POLICIAL).xls\n",
      "DadosBO_2018_6(MORTE DECORRENTE DE INTERVENÇÃO POLICIAL).xls\n",
      "DadosBO_2018_7(MORTE DECORRENTE DE INTERVENÇÃO POLICIAL).xls\n",
      "DadosBO_2018_8(MORTE DECORRENTE DE INTERVENÇÃO POLICIAL).xls\n",
      "DadosBO_2018_9(MORTE DECORRENTE DE INTERVENÇÃO POLICIAL).xls\n",
      "DadosBO_2018_1(LESÃO CORPORAL DOLOSA SEGUIDA DE MORTE).xls\n",
      "DadosBO_2018_10(LESÃO CORPORAL DOLOSA SEGUIDA DE MORTE).xls\n",
      "DadosBO_2018_2(LESÃO CORPORAL DOLOSA SEGUIDA DE MORTE).xls\n",
      "DadosBO_2018_3(LESÃO CORPORAL DOLOSA SEGUIDA DE MORTE).xls\n",
      "DadosBO_2018_4(LESÃO CORPORAL DOLOSA SEGUIDA DE MORTE).xls\n",
      "DadosBO_2018_5(LESÃO CORPORAL DOLOSA SEGUIDA DE MORTE).xls\n",
      "DadosBO_2018_6(LESÃO CORPORAL DOLOSA SEGUIDA DE MORTE).xls\n",
      "DadosBO_2018_7(LESÃO CORPORAL DOLOSA SEGUIDA DE MORTE).xls\n",
      "DadosBO_2018_8(LESÃO CORPORAL DOLOSA SEGUIDA DE MORTE).xls\n",
      "DadosBO_2018_9(LESÃO CORPORAL DOLOSA SEGUIDA DE MORTE).xls\n",
      "DadosBO_2018_1(LATROCÍNIO).xls\n",
      "DadosBO_2018_10(LATROCÍNIO).xls\n",
      "DadosBO_2018_2(LATROCÍNIO).xls\n",
      "DadosBO_2018_3(LATROCÍNIO).xls\n",
      "DadosBO_2018_4(LATROCÍNIO).xls\n",
      "DadosBO_2018_5(LATROCÍNIO).xls\n",
      "DadosBO_2018_6(LATROCÍNIO).xls\n",
      "DadosBO_2018_7(LATROCÍNIO).xls\n",
      "DadosBO_2018_8(LATROCÍNIO).xls\n",
      "DadosBO_2018_9(LATROCÍNIO).xls\n",
      "DadosBO_2018_1(HOMICÍDIO DOLOSO).xls\n",
      "DadosBO_2018_10(HOMICÍDIO DOLOSO) (2).xls\n",
      "DadosBO_2018_2(HOMICÍDIO DOLOSO).xls\n",
      "DadosBO_2018_3(HOMICÍDIO DOLOSO).xls\n",
      "DadosBO_2018_5(HOMICÍDIO DOLOSO).xls\n",
      "DadosBO_2018_6(HOMICÍDIO DOLOSO).xls\n",
      "DadosBO_2018_7(HOMICÍDIO DOLOSO).xls\n",
      "DadosBO_2018_8(HOMICÍDIO DOLOSO).xls\n",
      "DadosBO_2018_9(HOMICÍDIO DOLOSO).xls\n",
      "DadosBO_2018_1(FURTO DE VEÍCULOS).xls\n",
      "DadosBO_2018_10(FURTO DE VEÍCULOS).xls\n",
      "DadosBO_2018_2(FURTO DE VEÍCULOS).xls\n",
      "DadosBO_2018_3(FURTO DE VEÍCULOS).xls\n",
      "DadosBO_2018_4(FURTO DE VEÍCULOS).xls\n",
      "DadosBO_2018_5(FURTO DE VEÍCULOS).xls\n",
      "DadosBO_2018_6(FURTO DE VEÍCULOS).xls\n",
      "DadosBO_2018_7(FURTO DE VEÍCULOS).xls\n",
      "DadosBO_2018_8(FURTO DE VEÍCULOS).xls\n",
      "DadosBO_2018_9(FURTO DE VEÍCULOS).xls\n",
      "DadosBO_2018_1(FURTO DE CELULAR).xls\n",
      "DadosBO_2018_10(FURTO DE CELULAR).xls\n",
      "DadosBO_2018_2(FURTO DE CELULAR).xls\n",
      "DadosBO_2018_3(FURTO DE CELULAR).xls\n",
      "DadosBO_2018_4(FURTO DE CELULAR).xls\n",
      "DadosBO_2018_5(FURTO DE CELULAR).xls\n",
      "DadosBO_2018_6(FURTO DE CELULAR).xls\n",
      "DadosBO_2018_7(FURTO DE CELULAR).xls\n",
      "DadosBO_2018_8(FURTO DE CELULAR).xls\n",
      "DadosBO_2018_9(FURTO DE CELULAR).xls\n"
     ]
    }
   ],
   "source": [
    "for t in tipos:\n",
    "    df = pd.DataFrame()\n",
    "    lista_filtrada = [x for x in lista_dir if t in x]\n",
    "    for a in lista_filtrada:\n",
    "        try:\n",
    "            df2 = pd.read_excel(r'data'+'\\\\'+a)\n",
    "        except:\n",
    "            with fileinput.FileInput(r'data'+'\\\\'+a, inplace=True, backup='.bak') as file:\n",
    "                for line in file:\n",
    "                    print(line.replace('\\x00', ''), end='')\n",
    "        \n",
    "            #print(a)\n",
    "            df2 = pd.read_csv(r'data'+'\\\\'+a,sep='\\t',encoding='latin-1',engine='python')\n",
    "        \n",
    "        df = df.append(df2).reset_index(drop=True)\n",
    "    df.to_csv(t+'.csv',index=False)\n"
   ]
  },
  {
   "cell_type": "code",
   "execution_count": null,
   "metadata": {},
   "outputs": [],
   "source": []
  }
 ],
 "metadata": {
  "kernelspec": {
   "display_name": "Python 3",
   "language": "python",
   "name": "python3"
  },
  "language_info": {
   "codemirror_mode": {
    "name": "ipython",
    "version": 3
   },
   "file_extension": ".py",
   "mimetype": "text/x-python",
   "name": "python",
   "nbconvert_exporter": "python",
   "pygments_lexer": "ipython3",
   "version": "3.7.0"
  }
 },
 "nbformat": 4,
 "nbformat_minor": 2
}
